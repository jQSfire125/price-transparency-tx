{
 "cells": [
  {
   "cell_type": "code",
   "execution_count": 97,
   "id": "3f9845a4",
   "metadata": {},
   "outputs": [],
   "source": [
    "# import libraries\n",
    "import os\n",
    "import pandas as pd\n",
    "import numpy as np\n",
    "import datetime as dt"
   ]
  },
  {
   "cell_type": "code",
   "execution_count": 98,
   "id": "59a67c18",
   "metadata": {},
   "outputs": [],
   "source": [
    "# must match a reference ontology\n",
    "# path in final version will be /opt/data/dim/\n",
    "concept = pd.read_csv('volumes/data/dim/CONCEPT.csv.gz', header=0, sep='\\t', low_memory=False)"
   ]
  },
  {
   "cell_type": "code",
   "execution_count": 99,
   "id": "6489d2a1",
   "metadata": {},
   "outputs": [],
   "source": [
    "concept = concept[['concept_code', 'concept_id']]"
   ]
  },
  {
   "cell_type": "code",
   "execution_count": 100,
   "id": "607fc747",
   "metadata": {},
   "outputs": [],
   "source": [
    "concept.drop_duplicates(inplace=True)"
   ]
  },
  {
   "cell_type": "code",
   "execution_count": 101,
   "id": "401bd954",
   "metadata": {},
   "outputs": [],
   "source": [
    "concept.rename(columns= {'concept_code': 'cpt'}, inplace=True)"
   ]
  },
  {
   "cell_type": "code",
   "execution_count": 102,
   "id": "31ec3320",
   "metadata": {},
   "outputs": [],
   "source": [
    "# make a control file to iterate through\n",
    "# path in final version will be /opt/data/raw/\n",
    "path = 'volumes/data/raw/'\n",
    "files = os.listdir(path)\n",
    "csv_files = [x for x in files if x.endswith(\".json.gz\")]\n",
    "\n",
    "# removes '.json.gz' (8 characters)\n",
    "hospital_ids = [int(x[:-8]) for x in csv_files] \n",
    "control = pd.DataFrame({'file': csv_files, 'hospital_id': hospital_ids})"
   ]
  },
  {
   "cell_type": "code",
   "execution_count": 103,
   "id": "26038eb9",
   "metadata": {},
   "outputs": [],
   "source": [
    "#cross reference the control file with the static dimension table\n",
    "# path in final version will be /opt/dta/dim/\n",
    "dim = pd.read_csv('volumes/data/dim/hospital.csv', usecols=['hospital_id', 'affiliation'])\n",
    "control = control.merge(dim, how= 'left', on='hospital_id')\n",
    "control.sort_values(by='hospital_id', inplace=True, ignore_index=True)"
   ]
  },
  {
   "cell_type": "code",
   "execution_count": 105,
   "id": "a306f4fa",
   "metadata": {},
   "outputs": [],
   "source": [
    "## loop (PENDING)"
   ]
  },
  {
   "cell_type": "code",
   "execution_count": 106,
   "id": "05266313",
   "metadata": {},
   "outputs": [
    {
     "name": "stdout",
     "output_type": "stream",
     "text": [
      "2021-09-20 13:13:24 - parsing hospital - 24\n"
     ]
    }
   ],
   "source": [
    "# print file you are working on now\n",
    "print(dt.datetime.now().strftime(\"%Y-%m-%d %H:%M:%S\") + ' - parsing hospital - ' + str(control.hospital_id[0]))"
   ]
  },
  {
   "cell_type": "code",
   "execution_count": 107,
   "id": "5dc759c9",
   "metadata": {},
   "outputs": [],
   "source": [
    "# read in the data\n",
    "# replace 0 with i in loop\n",
    "df = pd.read_json('volumes/data/raw/' + control.file[0])"
   ]
  },
  {
   "cell_type": "code",
   "execution_count": 108,
   "id": "6645c5b6",
   "metadata": {},
   "outputs": [],
   "source": [
    "pd.set_option('display.max_columns', None)"
   ]
  },
  {
   "cell_type": "code",
   "execution_count": 110,
   "id": "7e27d96a",
   "metadata": {},
   "outputs": [],
   "source": [
    "# cash price\n",
    "# replace 0 with i in loop\n",
    "cash = df.loc[df.TabName == 'Hosp Discounted Cash Price']\n",
    "cash = pd.DataFrame({\n",
    "    'hospital_id': control.hospital_id[0],\n",
    "    'cpt': cash['Code'],\n",
    "    'price': 'cash',\n",
    "    'amount': cash[' Inpatient Discounted Charge ']\n",
    "})\n",
    "cash.drop_duplicates(inplace=True)"
   ]
  },
  {
   "cell_type": "code",
   "execution_count": 112,
   "id": "0e1fdba6",
   "metadata": {},
   "outputs": [],
   "source": [
    "cash['amount'] = cash['amount'].str.strip()\n",
    "cash['amount'] = cash['amount'].str.replace(',', '', regex=False)\n",
    "cash['amount'] = cash['amount'].str.replace('[$]', '', regex=False)\n",
    "cash['amount'] = cash.amount.astype(float)"
   ]
  },
  {
   "cell_type": "code",
   "execution_count": 113,
   "id": "7da9b04e",
   "metadata": {},
   "outputs": [],
   "source": [
    "cash['cpt'] = cash['cpt'].str.upper().replace('[^A-Z0-9]', '', regex=True)\n",
    "cash['cpt'] = cash['cpt'].str.replace('CPT', '', regex=False)"
   ]
  },
  {
   "cell_type": "code",
   "execution_count": 114,
   "id": "8a8d91cb",
   "metadata": {},
   "outputs": [],
   "source": [
    "cash = cash.merge(concept, on='cpt', sort=True)"
   ]
  },
  {
   "cell_type": "code",
   "execution_count": 115,
   "id": "87e02d59",
   "metadata": {},
   "outputs": [],
   "source": [
    "cash = cash.drop('cpt', axis=1)"
   ]
  },
  {
   "cell_type": "code",
   "execution_count": 116,
   "id": "3d2ef110",
   "metadata": {},
   "outputs": [],
   "source": [
    "cash.dropna(subset=['amount'], inplace=True)\n",
    "cash = cash[cash.amount > 0]"
   ]
  },
  {
   "cell_type": "code",
   "execution_count": 117,
   "id": "6f75a98d",
   "metadata": {},
   "outputs": [],
   "source": [
    "cash = cash[cash.columns[[0,3,1,2]]]"
   ]
  },
  {
   "cell_type": "code",
   "execution_count": 133,
   "id": "75310ab0",
   "metadata": {},
   "outputs": [],
   "source": [
    "# maximum price\n",
    "# replace 0 with i in loop\n",
    "maxi = df.loc[(df.TabName == 'Hosp Deidentified Payor MinMax ') & (df['Min /Max'] == 'MAX')]\n",
    "maxi = pd.DataFrame({\n",
    "    'hospital_id': control.hospital_id[0],\n",
    "    'cpt': maxi['Code'],\n",
    "    'price': 'max',\n",
    "    'amount': maxi[' Inpatient Negotiated Charge ']\n",
    "})\n",
    "maxi.drop_duplicates(inplace=True)"
   ]
  },
  {
   "cell_type": "code",
   "execution_count": 135,
   "id": "4c01f72b",
   "metadata": {},
   "outputs": [],
   "source": [
    "maxi['amount'] = maxi['amount'].str.strip()\n",
    "maxi['amount'] = maxi['amount'].str.replace(',', '', regex=False)\n",
    "maxi['amount'] = maxi['amount'].str.replace('[$]', '', regex=False)\n",
    "\n",
    "# some values ended up being an empty string\n",
    "maxi.loc[maxi['amount'] == '', 'amount'] = np.nan\n",
    "\n",
    "# convert to float\n",
    "maxi['amount'] = maxi.amount.astype(float)"
   ]
  },
  {
   "cell_type": "code",
   "execution_count": 136,
   "id": "3590e58f",
   "metadata": {},
   "outputs": [],
   "source": [
    "maxi['cpt'] = maxi['cpt'].str.upper().replace('[^A-Z0-9]', '', regex=True)\n",
    "maxi['cpt'] = maxi['cpt'].str.replace('CPT', '', regex=False)"
   ]
  },
  {
   "cell_type": "code",
   "execution_count": 137,
   "id": "62f6696c",
   "metadata": {},
   "outputs": [],
   "source": [
    "maxi = maxi.merge(concept, on='cpt', sort=True)"
   ]
  },
  {
   "cell_type": "code",
   "execution_count": 138,
   "id": "27e85513",
   "metadata": {},
   "outputs": [],
   "source": [
    "maxi = maxi.drop('cpt', axis=1)"
   ]
  },
  {
   "cell_type": "code",
   "execution_count": 139,
   "id": "81b7e724",
   "metadata": {},
   "outputs": [],
   "source": [
    "maxi.dropna(subset=['amount'], inplace=True)\n",
    "maxi = maxi[maxi.amount > 0]"
   ]
  },
  {
   "cell_type": "code",
   "execution_count": 140,
   "id": "8903e5f4",
   "metadata": {},
   "outputs": [],
   "source": [
    "maxi = maxi[maxi.columns[[0,3,1,2]]]"
   ]
  },
  {
   "cell_type": "code",
   "execution_count": 142,
   "id": "cfb34af0",
   "metadata": {},
   "outputs": [],
   "source": [
    "# minimum price\n",
    "# replace 0 with i in loop\n",
    "mini = df.loc[(df.TabName == 'Hosp Deidentified Payor MinMax ') & (df['Min /Max'] == 'MIN')]\n",
    "mini = pd.DataFrame({\n",
    "    'hospital_id': control.hospital_id[0],\n",
    "    'cpt': mini['Code'],\n",
    "    'price': 'min',\n",
    "    'amount': mini[' Inpatient Negotiated Charge ']\n",
    "})\n",
    "mini.drop_duplicates(inplace=True)"
   ]
  },
  {
   "cell_type": "code",
   "execution_count": 143,
   "id": "58348805",
   "metadata": {},
   "outputs": [],
   "source": [
    "mini['amount'] = mini['amount'].str.strip()\n",
    "mini['amount'] = mini['amount'].str.replace(',', '', regex=False)\n",
    "mini['amount'] = mini['amount'].str.replace('[$]', '', regex=False)\n",
    "\n",
    "# some values ended up being an empty string\n",
    "mini.loc[mini['amount'] == '', 'amount'] = np.nan\n",
    "\n",
    "# convert to float\n",
    "mini['amount'] = mini.amount.astype(float)"
   ]
  },
  {
   "cell_type": "code",
   "execution_count": 144,
   "id": "bb907db0",
   "metadata": {},
   "outputs": [],
   "source": [
    "mini['cpt'] = mini['cpt'].str.upper().replace('[^A-Z0-9]', '', regex=True)\n",
    "mini['cpt'] = mini['cpt'].str.replace('CPT', '', regex=False)"
   ]
  },
  {
   "cell_type": "code",
   "execution_count": 145,
   "id": "f0739348",
   "metadata": {},
   "outputs": [],
   "source": [
    "mini = mini.merge(concept, on='cpt', sort=True)\n",
    "mini = mini.drop('cpt', axis=1)"
   ]
  },
  {
   "cell_type": "code",
   "execution_count": 146,
   "id": "ec4ffb42",
   "metadata": {},
   "outputs": [],
   "source": [
    "mini.dropna(subset=['amount'], inplace=True)\n",
    "mini = mini[mini.amount > 0]"
   ]
  },
  {
   "cell_type": "code",
   "execution_count": 147,
   "id": "4ad2e333",
   "metadata": {},
   "outputs": [],
   "source": [
    "mini = mini[mini.columns[[0,3,1,2]]]"
   ]
  },
  {
   "cell_type": "code",
   "execution_count": 148,
   "id": "1b067571",
   "metadata": {},
   "outputs": [],
   "source": [
    "out = pd.concat([mini, maxi, cash])"
   ]
  },
  {
   "cell_type": "code",
   "execution_count": 149,
   "id": "62d23556",
   "metadata": {},
   "outputs": [
    {
     "data": {
      "text/html": [
       "<div>\n",
       "<style scoped>\n",
       "    .dataframe tbody tr th:only-of-type {\n",
       "        vertical-align: middle;\n",
       "    }\n",
       "\n",
       "    .dataframe tbody tr th {\n",
       "        vertical-align: top;\n",
       "    }\n",
       "\n",
       "    .dataframe thead th {\n",
       "        text-align: right;\n",
       "    }\n",
       "</style>\n",
       "<table border=\"1\" class=\"dataframe\">\n",
       "  <thead>\n",
       "    <tr style=\"text-align: right;\">\n",
       "      <th></th>\n",
       "      <th>hospital_id</th>\n",
       "      <th>concept_id</th>\n",
       "      <th>price</th>\n",
       "      <th>amount</th>\n",
       "    </tr>\n",
       "  </thead>\n",
       "  <tbody>\n",
       "    <tr>\n",
       "      <th>0</th>\n",
       "      <td>24</td>\n",
       "      <td>766231</td>\n",
       "      <td>cash</td>\n",
       "      <td>22.50</td>\n",
       "    </tr>\n",
       "    <tr>\n",
       "      <th>1</th>\n",
       "      <td>24</td>\n",
       "      <td>766232</td>\n",
       "      <td>cash</td>\n",
       "      <td>33.75</td>\n",
       "    </tr>\n",
       "    <tr>\n",
       "      <th>2</th>\n",
       "      <td>24</td>\n",
       "      <td>766233</td>\n",
       "      <td>cash</td>\n",
       "      <td>22.50</td>\n",
       "    </tr>\n",
       "    <tr>\n",
       "      <th>3</th>\n",
       "      <td>24</td>\n",
       "      <td>766234</td>\n",
       "      <td>cash</td>\n",
       "      <td>33.75</td>\n",
       "    </tr>\n",
       "    <tr>\n",
       "      <th>4</th>\n",
       "      <td>24</td>\n",
       "      <td>2100780</td>\n",
       "      <td>cash</td>\n",
       "      <td>764.58</td>\n",
       "    </tr>\n",
       "  </tbody>\n",
       "</table>\n",
       "</div>"
      ],
      "text/plain": [
       "   hospital_id  concept_id price  amount\n",
       "0           24      766231  cash   22.50\n",
       "1           24      766232  cash   33.75\n",
       "2           24      766233  cash   22.50\n",
       "3           24      766234  cash   33.75\n",
       "4           24     2100780  cash  764.58"
      ]
     },
     "execution_count": 149,
     "metadata": {},
     "output_type": "execute_result"
    }
   ],
   "source": [
    "out.head()"
   ]
  },
  {
   "cell_type": "code",
   "execution_count": 150,
   "id": "91cd1cad",
   "metadata": {},
   "outputs": [
    {
     "data": {
      "text/plain": [
       "(37411, 4)"
      ]
     },
     "execution_count": 150,
     "metadata": {},
     "output_type": "execute_result"
    }
   ],
   "source": [
    "out.shape"
   ]
  },
  {
   "cell_type": "code",
   "execution_count": 151,
   "id": "059a6e60",
   "metadata": {},
   "outputs": [
    {
     "name": "stdout",
     "output_type": "stream",
     "text": [
      "(12422, 4) (12425, 4) (12564, 4)\n"
     ]
    }
   ],
   "source": [
    "print(mini.shape, maxi.shape, cash.shape)"
   ]
  },
  {
   "cell_type": "code",
   "execution_count": 152,
   "id": "4f8a261c",
   "metadata": {},
   "outputs": [
    {
     "data": {
      "text/plain": [
       "hospital_id      int64\n",
       "concept_id       int64\n",
       "price           object\n",
       "amount         float64\n",
       "dtype: object"
      ]
     },
     "execution_count": 152,
     "metadata": {},
     "output_type": "execute_result"
    }
   ],
   "source": [
    "out.dtypes"
   ]
  },
  {
   "cell_type": "code",
   "execution_count": 153,
   "id": "1f6cf96e",
   "metadata": {},
   "outputs": [],
   "source": [
    "# if out is not Null loop"
   ]
  },
  {
   "cell_type": "code",
   "execution_count": 154,
   "id": "5132cbc1",
   "metadata": {},
   "outputs": [],
   "source": [
    "# write the data to a flatfile for postgres\n",
    "# path will be later /opt/data/transformed/\n",
    "# replace 0 with i inside the loop\n",
    "if out.shape[0] > 0:\n",
    "    out_path = 'volumes/data/transformed/' + str(control.hospital_id[0]) + '.csv'\n",
    "    out.to_csv(out_path, header=False, index=None)"
   ]
  },
  {
   "cell_type": "code",
   "execution_count": 155,
   "id": "8a1ad7e4",
   "metadata": {},
   "outputs": [],
   "source": [
    "# clear variables from last iteration (inside the loop)\n",
    "# del out"
   ]
  },
  {
   "cell_type": "code",
   "execution_count": 156,
   "id": "28708d9b",
   "metadata": {},
   "outputs": [],
   "source": [
    "col_names = ['hospital_id', 'concept_id', 'variable', 'value']\n",
    "dfr = pd.read_csv('volumes/data/transformed/24.csv', header=None, names=col_names)"
   ]
  },
  {
   "cell_type": "code",
   "execution_count": 157,
   "id": "196cb97e",
   "metadata": {},
   "outputs": [
    {
     "data": {
      "text/html": [
       "<div>\n",
       "<style scoped>\n",
       "    .dataframe tbody tr th:only-of-type {\n",
       "        vertical-align: middle;\n",
       "    }\n",
       "\n",
       "    .dataframe tbody tr th {\n",
       "        vertical-align: top;\n",
       "    }\n",
       "\n",
       "    .dataframe thead th {\n",
       "        text-align: right;\n",
       "    }\n",
       "</style>\n",
       "<table border=\"1\" class=\"dataframe\">\n",
       "  <thead>\n",
       "    <tr style=\"text-align: right;\">\n",
       "      <th></th>\n",
       "      <th>hospital_id</th>\n",
       "      <th>concept_id</th>\n",
       "      <th>variable</th>\n",
       "      <th>value</th>\n",
       "    </tr>\n",
       "  </thead>\n",
       "  <tbody>\n",
       "    <tr>\n",
       "      <th>0</th>\n",
       "      <td>24</td>\n",
       "      <td>766231</td>\n",
       "      <td>cash</td>\n",
       "      <td>22.50</td>\n",
       "    </tr>\n",
       "    <tr>\n",
       "      <th>1</th>\n",
       "      <td>24</td>\n",
       "      <td>766232</td>\n",
       "      <td>cash</td>\n",
       "      <td>33.75</td>\n",
       "    </tr>\n",
       "    <tr>\n",
       "      <th>2</th>\n",
       "      <td>24</td>\n",
       "      <td>766233</td>\n",
       "      <td>cash</td>\n",
       "      <td>22.50</td>\n",
       "    </tr>\n",
       "    <tr>\n",
       "      <th>3</th>\n",
       "      <td>24</td>\n",
       "      <td>766234</td>\n",
       "      <td>cash</td>\n",
       "      <td>33.75</td>\n",
       "    </tr>\n",
       "    <tr>\n",
       "      <th>4</th>\n",
       "      <td>24</td>\n",
       "      <td>2100780</td>\n",
       "      <td>cash</td>\n",
       "      <td>764.58</td>\n",
       "    </tr>\n",
       "  </tbody>\n",
       "</table>\n",
       "</div>"
      ],
      "text/plain": [
       "   hospital_id  concept_id variable   value\n",
       "0           24      766231     cash   22.50\n",
       "1           24      766232     cash   33.75\n",
       "2           24      766233     cash   22.50\n",
       "3           24      766234     cash   33.75\n",
       "4           24     2100780     cash  764.58"
      ]
     },
     "execution_count": 157,
     "metadata": {},
     "output_type": "execute_result"
    }
   ],
   "source": [
    "dfr.head()"
   ]
  },
  {
   "cell_type": "code",
   "execution_count": 158,
   "id": "1041f9f6",
   "metadata": {},
   "outputs": [],
   "source": [
    "dfn = pd.read_csv('../../NC/hospital-price-transparency/volumes/data/transformed/24.csv', header=None, names=col_names)"
   ]
  },
  {
   "cell_type": "code",
   "execution_count": 159,
   "id": "649ebb76",
   "metadata": {},
   "outputs": [
    {
     "data": {
      "text/html": [
       "<div>\n",
       "<style scoped>\n",
       "    .dataframe tbody tr th:only-of-type {\n",
       "        vertical-align: middle;\n",
       "    }\n",
       "\n",
       "    .dataframe tbody tr th {\n",
       "        vertical-align: top;\n",
       "    }\n",
       "\n",
       "    .dataframe thead th {\n",
       "        text-align: right;\n",
       "    }\n",
       "</style>\n",
       "<table border=\"1\" class=\"dataframe\">\n",
       "  <thead>\n",
       "    <tr style=\"text-align: right;\">\n",
       "      <th></th>\n",
       "      <th>hospital_id</th>\n",
       "      <th>concept_id</th>\n",
       "      <th>variable</th>\n",
       "      <th>value</th>\n",
       "    </tr>\n",
       "  </thead>\n",
       "  <tbody>\n",
       "    <tr>\n",
       "      <th>0</th>\n",
       "      <td>24</td>\n",
       "      <td>2100780</td>\n",
       "      <td>min</td>\n",
       "      <td>605.54</td>\n",
       "    </tr>\n",
       "    <tr>\n",
       "      <th>1</th>\n",
       "      <td>24</td>\n",
       "      <td>2100954</td>\n",
       "      <td>min</td>\n",
       "      <td>965.31</td>\n",
       "    </tr>\n",
       "    <tr>\n",
       "      <th>2</th>\n",
       "      <td>24</td>\n",
       "      <td>2100955</td>\n",
       "      <td>min</td>\n",
       "      <td>1585.58</td>\n",
       "    </tr>\n",
       "    <tr>\n",
       "      <th>3</th>\n",
       "      <td>24</td>\n",
       "      <td>709849</td>\n",
       "      <td>min</td>\n",
       "      <td>318.15</td>\n",
       "    </tr>\n",
       "    <tr>\n",
       "      <th>4</th>\n",
       "      <td>24</td>\n",
       "      <td>709849</td>\n",
       "      <td>min</td>\n",
       "      <td>239.70</td>\n",
       "    </tr>\n",
       "  </tbody>\n",
       "</table>\n",
       "</div>"
      ],
      "text/plain": [
       "   hospital_id  concept_id variable    value\n",
       "0           24     2100780      min   605.54\n",
       "1           24     2100954      min   965.31\n",
       "2           24     2100955      min  1585.58\n",
       "3           24      709849      min   318.15\n",
       "4           24      709849      min   239.70"
      ]
     },
     "execution_count": 159,
     "metadata": {},
     "output_type": "execute_result"
    }
   ],
   "source": [
    "dfn.head()"
   ]
  },
  {
   "cell_type": "code",
   "execution_count": 163,
   "id": "ba3fce60",
   "metadata": {},
   "outputs": [
    {
     "data": {
      "text/html": [
       "<div>\n",
       "<style scoped>\n",
       "    .dataframe tbody tr th:only-of-type {\n",
       "        vertical-align: middle;\n",
       "    }\n",
       "\n",
       "    .dataframe tbody tr th {\n",
       "        vertical-align: top;\n",
       "    }\n",
       "\n",
       "    .dataframe thead th {\n",
       "        text-align: right;\n",
       "    }\n",
       "</style>\n",
       "<table border=\"1\" class=\"dataframe\">\n",
       "  <thead>\n",
       "    <tr style=\"text-align: right;\">\n",
       "      <th></th>\n",
       "      <th>hospital_id</th>\n",
       "      <th>concept_id</th>\n",
       "      <th>variable</th>\n",
       "      <th>value</th>\n",
       "    </tr>\n",
       "  </thead>\n",
       "  <tbody>\n",
       "    <tr>\n",
       "      <th>2</th>\n",
       "      <td>24</td>\n",
       "      <td>2100955</td>\n",
       "      <td>min</td>\n",
       "      <td>1585.58</td>\n",
       "    </tr>\n",
       "    <tr>\n",
       "      <th>12424</th>\n",
       "      <td>24</td>\n",
       "      <td>2100955</td>\n",
       "      <td>max</td>\n",
       "      <td>4004.00</td>\n",
       "    </tr>\n",
       "    <tr>\n",
       "      <th>24853</th>\n",
       "      <td>24</td>\n",
       "      <td>2100955</td>\n",
       "      <td>cash</td>\n",
       "      <td>2002.00</td>\n",
       "    </tr>\n",
       "  </tbody>\n",
       "</table>\n",
       "</div>"
      ],
      "text/plain": [
       "       hospital_id  concept_id variable    value\n",
       "2               24     2100955      min  1585.58\n",
       "12424           24     2100955      max  4004.00\n",
       "24853           24     2100955     cash  2002.00"
      ]
     },
     "execution_count": 163,
     "metadata": {},
     "output_type": "execute_result"
    }
   ],
   "source": [
    "dfn.loc[lambda df: df['concept_id'] == 2100955]"
   ]
  },
  {
   "cell_type": "code",
   "execution_count": 164,
   "id": "f8700fe1",
   "metadata": {},
   "outputs": [
    {
     "data": {
      "text/html": [
       "<div>\n",
       "<style scoped>\n",
       "    .dataframe tbody tr th:only-of-type {\n",
       "        vertical-align: middle;\n",
       "    }\n",
       "\n",
       "    .dataframe tbody tr th {\n",
       "        vertical-align: top;\n",
       "    }\n",
       "\n",
       "    .dataframe thead th {\n",
       "        text-align: right;\n",
       "    }\n",
       "</style>\n",
       "<table border=\"1\" class=\"dataframe\">\n",
       "  <thead>\n",
       "    <tr style=\"text-align: right;\">\n",
       "      <th></th>\n",
       "      <th>hospital_id</th>\n",
       "      <th>concept_id</th>\n",
       "      <th>variable</th>\n",
       "      <th>value</th>\n",
       "    </tr>\n",
       "  </thead>\n",
       "  <tbody>\n",
       "    <tr>\n",
       "      <th>6</th>\n",
       "      <td>24</td>\n",
       "      <td>2100955</td>\n",
       "      <td>cash</td>\n",
       "      <td>2002.00</td>\n",
       "    </tr>\n",
       "    <tr>\n",
       "      <th>12566</th>\n",
       "      <td>24</td>\n",
       "      <td>2100955</td>\n",
       "      <td>max</td>\n",
       "      <td>4004.00</td>\n",
       "    </tr>\n",
       "    <tr>\n",
       "      <th>24991</th>\n",
       "      <td>24</td>\n",
       "      <td>2100955</td>\n",
       "      <td>min</td>\n",
       "      <td>1585.58</td>\n",
       "    </tr>\n",
       "  </tbody>\n",
       "</table>\n",
       "</div>"
      ],
      "text/plain": [
       "       hospital_id  concept_id variable    value\n",
       "6               24     2100955     cash  2002.00\n",
       "12566           24     2100955      max  4004.00\n",
       "24991           24     2100955      min  1585.58"
      ]
     },
     "execution_count": 164,
     "metadata": {},
     "output_type": "execute_result"
    }
   ],
   "source": [
    "dfr.loc[lambda df: df['concept_id'] == 2100955]"
   ]
  },
  {
   "cell_type": "code",
   "execution_count": 162,
   "id": "bff32ef7",
   "metadata": {},
   "outputs": [
    {
     "name": "stdout",
     "output_type": "stream",
     "text": [
      "(37411, 4) (37411, 4)\n"
     ]
    }
   ],
   "source": [
    "print(dfn.shape, dfr.shape)"
   ]
  },
  {
   "cell_type": "code",
   "execution_count": null,
   "id": "587c28d9",
   "metadata": {},
   "outputs": [],
   "source": []
  }
 ],
 "metadata": {
  "kernelspec": {
   "display_name": "Python 3 (ipykernel)",
   "language": "python",
   "name": "python3"
  },
  "language_info": {
   "codemirror_mode": {
    "name": "ipython",
    "version": 3
   },
   "file_extension": ".py",
   "mimetype": "text/x-python",
   "name": "python",
   "nbconvert_exporter": "python",
   "pygments_lexer": "ipython3",
   "version": "3.8.8"
  }
 },
 "nbformat": 4,
 "nbformat_minor": 5
}
