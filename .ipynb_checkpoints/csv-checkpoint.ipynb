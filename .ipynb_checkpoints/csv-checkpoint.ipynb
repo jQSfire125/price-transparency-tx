{
 "cells": [
  {
   "cell_type": "code",
   "execution_count": 66,
   "id": "3f9845a4",
   "metadata": {},
   "outputs": [],
   "source": [
    "# import libraries\n",
    "import os\n",
    "import pandas as pd"
   ]
  },
  {
   "cell_type": "code",
   "execution_count": 67,
   "id": "59a67c18",
   "metadata": {},
   "outputs": [],
   "source": [
    "# must match a reference ontology\n",
    "# path in final version will be /opt/data/dim/\n",
    "concept = pd.read_csv('volumes/data/dim/CONCEPT.csv.gz', header=0, sep='\\t', low_memory=False)"
   ]
  },
  {
   "cell_type": "code",
   "execution_count": 68,
   "id": "6489d2a1",
   "metadata": {},
   "outputs": [],
   "source": [
    "concept = concept[['concept_code', 'concept_id']]"
   ]
  },
  {
   "cell_type": "code",
   "execution_count": 69,
   "id": "607fc747",
   "metadata": {},
   "outputs": [],
   "source": [
    "concept.drop_duplicates(inplace=True)"
   ]
  },
  {
   "cell_type": "code",
   "execution_count": 70,
   "id": "401bd954",
   "metadata": {},
   "outputs": [],
   "source": [
    "concept.rename(columns= {'concept_code': 'cpt'}, inplace=True)"
   ]
  },
  {
   "cell_type": "code",
   "execution_count": 71,
   "id": "31ec3320",
   "metadata": {},
   "outputs": [],
   "source": [
    "# make a control file to iterate through\n",
    "# path in final version will be /opt/data/raw/\n",
    "path = 'volumes/data/raw/'\n",
    "files = os.listdir(path)\n",
    "csv_files = [x for x in files if x.endswith(\".csv.gz\")]\n",
    "\n",
    "# removes '.csv.gz' (7 characters)\n",
    "hospital_ids = [int(x[:-7]) for x in csv_files] \n",
    "control = pd.DataFrame({'file': csv_files, 'hospital_id': hospital_ids})"
   ]
  },
  {
   "cell_type": "code",
   "execution_count": 72,
   "id": "26038eb9",
   "metadata": {},
   "outputs": [],
   "source": [
    "#cross reference the control file with the static dimension table\n",
    "# path in final version will be /opt/dta/dim/\n",
    "dim = pd.read_csv('volumes/data/dim/hospital.csv', usecols=['hospital_id', 'affiliation'])\n",
    "control = control.merge(dim, how= 'left', on='hospital_id')\n",
    "control.sort_values(by='hospital_id', inplace=True, ignore_index=True)"
   ]
  },
  {
   "cell_type": "code",
   "execution_count": 73,
   "id": "d65d6f48",
   "metadata": {},
   "outputs": [
    {
     "data": {
      "text/html": [
       "<div>\n",
       "<style scoped>\n",
       "    .dataframe tbody tr th:only-of-type {\n",
       "        vertical-align: middle;\n",
       "    }\n",
       "\n",
       "    .dataframe tbody tr th {\n",
       "        vertical-align: top;\n",
       "    }\n",
       "\n",
       "    .dataframe thead th {\n",
       "        text-align: right;\n",
       "    }\n",
       "</style>\n",
       "<table border=\"1\" class=\"dataframe\">\n",
       "  <thead>\n",
       "    <tr style=\"text-align: right;\">\n",
       "      <th></th>\n",
       "      <th>file</th>\n",
       "      <th>hospital_id</th>\n",
       "      <th>affiliation</th>\n",
       "    </tr>\n",
       "  </thead>\n",
       "  <tbody>\n",
       "    <tr>\n",
       "      <th>0</th>\n",
       "      <td>1.csv.gz</td>\n",
       "      <td>1</td>\n",
       "      <td>Independent</td>\n",
       "    </tr>\n",
       "    <tr>\n",
       "      <th>1</th>\n",
       "      <td>2.csv.gz</td>\n",
       "      <td>2</td>\n",
       "      <td>Independent</td>\n",
       "    </tr>\n",
       "    <tr>\n",
       "      <th>2</th>\n",
       "      <td>3.csv.gz</td>\n",
       "      <td>3</td>\n",
       "      <td>Independent</td>\n",
       "    </tr>\n",
       "    <tr>\n",
       "      <th>3</th>\n",
       "      <td>7.csv.gz</td>\n",
       "      <td>7</td>\n",
       "      <td>Independent</td>\n",
       "    </tr>\n",
       "    <tr>\n",
       "      <th>4</th>\n",
       "      <td>8.csv.gz</td>\n",
       "      <td>8</td>\n",
       "      <td>Independent</td>\n",
       "    </tr>\n",
       "    <tr>\n",
       "      <th>5</th>\n",
       "      <td>10.csv.gz</td>\n",
       "      <td>10</td>\n",
       "      <td>Independent</td>\n",
       "    </tr>\n",
       "    <tr>\n",
       "      <th>6</th>\n",
       "      <td>12.csv.gz</td>\n",
       "      <td>12</td>\n",
       "      <td>Appalachian Regional Healthcare System</td>\n",
       "    </tr>\n",
       "    <tr>\n",
       "      <th>7</th>\n",
       "      <td>13.csv.gz</td>\n",
       "      <td>13</td>\n",
       "      <td>Appalachian Regional Healthcare System</td>\n",
       "    </tr>\n",
       "  </tbody>\n",
       "</table>\n",
       "</div>"
      ],
      "text/plain": [
       "        file  hospital_id                             affiliation\n",
       "0   1.csv.gz            1                             Independent\n",
       "1   2.csv.gz            2                             Independent\n",
       "2   3.csv.gz            3                             Independent\n",
       "3   7.csv.gz            7                             Independent\n",
       "4   8.csv.gz            8                             Independent\n",
       "5  10.csv.gz           10                             Independent\n",
       "6  12.csv.gz           12  Appalachian Regional Healthcare System\n",
       "7  13.csv.gz           13  Appalachian Regional Healthcare System"
      ]
     },
     "execution_count": 73,
     "metadata": {},
     "output_type": "execute_result"
    }
   ],
   "source": [
    "control.head(10)"
   ]
  },
  {
   "cell_type": "code",
   "execution_count": null,
   "id": "a306f4fa",
   "metadata": {},
   "outputs": [],
   "source": []
  }
 ],
 "metadata": {
  "kernelspec": {
   "display_name": "Python 3 (ipykernel)",
   "language": "python",
   "name": "python3"
  },
  "language_info": {
   "codemirror_mode": {
    "name": "ipython",
    "version": 3
   },
   "file_extension": ".py",
   "mimetype": "text/x-python",
   "name": "python",
   "nbconvert_exporter": "python",
   "pygments_lexer": "ipython3",
   "version": "3.8.8"
  }
 },
 "nbformat": 4,
 "nbformat_minor": 5
}
