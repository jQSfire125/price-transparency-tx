{
 "cells": [
  {
   "cell_type": "code",
   "execution_count": 10,
   "id": "3f9845a4",
   "metadata": {},
   "outputs": [],
   "source": [
    "# import libraries\n",
    "import os\n",
    "import pandas as pd\n",
    "import datetime as dt"
   ]
  },
  {
   "cell_type": "code",
   "execution_count": 2,
   "id": "59a67c18",
   "metadata": {},
   "outputs": [],
   "source": [
    "# must match a reference ontology\n",
    "# path in final version will be /opt/data/dim/\n",
    "concept = pd.read_csv('volumes/data/dim/CONCEPT.csv.gz', header=0, sep='\\t', low_memory=False)"
   ]
  },
  {
   "cell_type": "code",
   "execution_count": 3,
   "id": "6489d2a1",
   "metadata": {},
   "outputs": [],
   "source": [
    "concept = concept[['concept_code', 'concept_id']]"
   ]
  },
  {
   "cell_type": "code",
   "execution_count": 4,
   "id": "607fc747",
   "metadata": {},
   "outputs": [],
   "source": [
    "concept.drop_duplicates(inplace=True)"
   ]
  },
  {
   "cell_type": "code",
   "execution_count": 5,
   "id": "401bd954",
   "metadata": {},
   "outputs": [],
   "source": [
    "concept.rename(columns= {'concept_code': 'cpt'}, inplace=True)"
   ]
  },
  {
   "cell_type": "code",
   "execution_count": 6,
   "id": "31ec3320",
   "metadata": {},
   "outputs": [],
   "source": [
    "# make a control file to iterate through\n",
    "# path in final version will be /opt/data/raw/\n",
    "path = 'volumes/data/raw/'\n",
    "files = os.listdir(path)\n",
    "csv_files = [x for x in files if x.endswith(\".csv.gz\")]\n",
    "\n",
    "# removes '.csv.gz' (7 characters)\n",
    "hospital_ids = [int(x[:-7]) for x in csv_files] \n",
    "control = pd.DataFrame({'file': csv_files, 'hospital_id': hospital_ids})"
   ]
  },
  {
   "cell_type": "code",
   "execution_count": 7,
   "id": "26038eb9",
   "metadata": {},
   "outputs": [],
   "source": [
    "#cross reference the control file with the static dimension table\n",
    "# path in final version will be /opt/dta/dim/\n",
    "dim = pd.read_csv('volumes/data/dim/hospital.csv', usecols=['hospital_id', 'affiliation'])\n",
    "control = control.merge(dim, how= 'left', on='hospital_id')\n",
    "control.sort_values(by='hospital_id', inplace=True, ignore_index=True)"
   ]
  },
  {
   "cell_type": "code",
   "execution_count": 8,
   "id": "a306f4fa",
   "metadata": {},
   "outputs": [],
   "source": [
    "## loop (PENDING)"
   ]
  },
  {
   "cell_type": "code",
   "execution_count": 13,
   "id": "c1f5a63b",
   "metadata": {},
   "outputs": [
    {
     "name": "stdout",
     "output_type": "stream",
     "text": [
      "2021-09-20 10:57:46 - parsing hospital - 1\n"
     ]
    }
   ],
   "source": [
    "# print file you are working on now\n",
    "print(dt.datetime.now().strftime(\"%Y-%m-%d %H:%M:%S\") + ' - parsing hospital - ' + str(control.hospital_id[0]))"
   ]
  },
  {
   "cell_type": "code",
   "execution_count": 9,
   "id": "5dc759c9",
   "metadata": {},
   "outputs": [],
   "source": [
    "# read in the data\n",
    "df = pd.read_csv('volumes/data/raw/' + control.file[0], low_memory=False)"
   ]
  },
  {
   "cell_type": "code",
   "execution_count": 14,
   "id": "18bb3bda",
   "metadata": {},
   "outputs": [],
   "source": [
    "# hospital specific configuration\n",
    "out = pd.DataFrame({\n",
    "    'cpt': df['CPT/HCPCS Code'],\n",
    "    'gross': df['Unit Price'],\n",
    "    'cash': df['Cash Discount Price'],\n",
    "    'max': df['Maximum Amount'],\n",
    "    'min': df['Minimum Amount']\n",
    "})\n",
    "out.drop_duplicates(inplace=True)"
   ]
  },
  {
   "cell_type": "code",
   "execution_count": 11,
   "id": "1f6cf96e",
   "metadata": {},
   "outputs": [],
   "source": [
    "# if out is not Null loop"
   ]
  },
  {
   "cell_type": "code",
   "execution_count": 16,
   "id": "77c16ab1",
   "metadata": {},
   "outputs": [],
   "source": [
    "# uniform\n",
    "out.dropna(subset=['cpt'], inplace=True)\n",
    "out = out[out.cpt != '']\n",
    "out = out[out.cpt != '*']"
   ]
  },
  {
   "cell_type": "code",
   "execution_count": 24,
   "id": "1816f8cc",
   "metadata": {},
   "outputs": [],
   "source": [
    "# must match a reference code, usually CPT or HCPCS\n",
    "out = out.merge(concept, on='cpt', sort=True)"
   ]
  },
  {
   "cell_type": "code",
   "execution_count": null,
   "id": "f058ab2e",
   "metadata": {},
   "outputs": [],
   "source": [
    "out = out.drop('cpt', axis=1)"
   ]
  },
  {
   "cell_type": "code",
   "execution_count": 14,
   "id": "f66d5602",
   "metadata": {},
   "outputs": [],
   "source": [
    "# melt from wide to long, and clean\n",
    "long = pd.melt(out, id_vars='concept_id')\n",
    "long['value'] = long['value'].str.strip()\n",
    "long['value'] = long['value'].str.replace(',', '', regex=False)\n",
    "long['value'] = long['value'].str.replace('[$]', '', regex=False)\n",
    "long['value'] = long.value.astype(float)\n",
    "long.dropna(subset=['value'], inplace=True)\n",
    "long = long[long.value > 0]\n",
    "\n",
    "# Add hospital id and order columns\n",
    "# later change the 0 for i inside the loop\n",
    "long['hospital_id'] = control.hospital_id[0]\n",
    "long = long[long.columns[[3,0,1,2]]]"
   ]
  },
  {
   "cell_type": "code",
   "execution_count": 15,
   "id": "5132cbc1",
   "metadata": {},
   "outputs": [],
   "source": [
    "# write the data to a flatfile for postgres\n",
    "# path will be later /opt/data/transformed/\n",
    "# replace 0 with i inside the loop\n",
    "if long.shape[0] > 0:\n",
    "    out_path = 'volumes/data/transformed/' + str(control.hospital_id[0]) + '.csv'\n",
    "    long.to_csv(out_path, header=False, index=None)"
   ]
  },
  {
   "cell_type": "code",
   "execution_count": 16,
   "id": "8a1ad7e4",
   "metadata": {},
   "outputs": [],
   "source": [
    "# clear variables from last iteration (inside the loop)\n",
    "# del out\n",
    "# del long"
   ]
  },
  {
   "cell_type": "code",
   "execution_count": 20,
   "id": "28708d9b",
   "metadata": {},
   "outputs": [],
   "source": [
    "col_names = ['hospital_id', 'concept_id', 'variable', 'value']\n",
    "dfr = pd.read_csv('volumes/data/transformed/1.csv', header=None, names=col_names)"
   ]
  },
  {
   "cell_type": "code",
   "execution_count": 21,
   "id": "196cb97e",
   "metadata": {},
   "outputs": [
    {
     "data": {
      "text/html": [
       "<div>\n",
       "<style scoped>\n",
       "    .dataframe tbody tr th:only-of-type {\n",
       "        vertical-align: middle;\n",
       "    }\n",
       "\n",
       "    .dataframe tbody tr th {\n",
       "        vertical-align: top;\n",
       "    }\n",
       "\n",
       "    .dataframe thead th {\n",
       "        text-align: right;\n",
       "    }\n",
       "</style>\n",
       "<table border=\"1\" class=\"dataframe\">\n",
       "  <thead>\n",
       "    <tr style=\"text-align: right;\">\n",
       "      <th></th>\n",
       "      <th>hospital_id</th>\n",
       "      <th>concept_id</th>\n",
       "      <th>variable</th>\n",
       "      <th>value</th>\n",
       "    </tr>\n",
       "  </thead>\n",
       "  <tbody>\n",
       "    <tr>\n",
       "      <th>0</th>\n",
       "      <td>1</td>\n",
       "      <td>2718651</td>\n",
       "      <td>gross</td>\n",
       "      <td>447.45</td>\n",
       "    </tr>\n",
       "    <tr>\n",
       "      <th>1</th>\n",
       "      <td>1</td>\n",
       "      <td>2718651</td>\n",
       "      <td>gross</td>\n",
       "      <td>50.00</td>\n",
       "    </tr>\n",
       "    <tr>\n",
       "      <th>2</th>\n",
       "      <td>1</td>\n",
       "      <td>2718651</td>\n",
       "      <td>gross</td>\n",
       "      <td>193.50</td>\n",
       "    </tr>\n",
       "    <tr>\n",
       "      <th>3</th>\n",
       "      <td>1</td>\n",
       "      <td>2718651</td>\n",
       "      <td>gross</td>\n",
       "      <td>900.00</td>\n",
       "    </tr>\n",
       "    <tr>\n",
       "      <th>4</th>\n",
       "      <td>1</td>\n",
       "      <td>2718651</td>\n",
       "      <td>gross</td>\n",
       "      <td>52.10</td>\n",
       "    </tr>\n",
       "  </tbody>\n",
       "</table>\n",
       "</div>"
      ],
      "text/plain": [
       "   hospital_id  concept_id variable   value\n",
       "0            1     2718651    gross  447.45\n",
       "1            1     2718651    gross   50.00\n",
       "2            1     2718651    gross  193.50\n",
       "3            1     2718651    gross  900.00\n",
       "4            1     2718651    gross   52.10"
      ]
     },
     "execution_count": 21,
     "metadata": {},
     "output_type": "execute_result"
    }
   ],
   "source": [
    "dfr.head()"
   ]
  },
  {
   "cell_type": "code",
   "execution_count": 22,
   "id": "1041f9f6",
   "metadata": {},
   "outputs": [],
   "source": [
    "dfn = pd.read_csv('../../NC/hospital-price-transparency/volumes/data/transformed/1.csv', header=None, names=col_names)"
   ]
  },
  {
   "cell_type": "code",
   "execution_count": 23,
   "id": "649ebb76",
   "metadata": {},
   "outputs": [
    {
     "data": {
      "text/html": [
       "<div>\n",
       "<style scoped>\n",
       "    .dataframe tbody tr th:only-of-type {\n",
       "        vertical-align: middle;\n",
       "    }\n",
       "\n",
       "    .dataframe tbody tr th {\n",
       "        vertical-align: top;\n",
       "    }\n",
       "\n",
       "    .dataframe thead th {\n",
       "        text-align: right;\n",
       "    }\n",
       "</style>\n",
       "<table border=\"1\" class=\"dataframe\">\n",
       "  <thead>\n",
       "    <tr style=\"text-align: right;\">\n",
       "      <th></th>\n",
       "      <th>hospital_id</th>\n",
       "      <th>concept_id</th>\n",
       "      <th>variable</th>\n",
       "      <th>value</th>\n",
       "    </tr>\n",
       "  </thead>\n",
       "  <tbody>\n",
       "    <tr>\n",
       "      <th>0</th>\n",
       "      <td>1</td>\n",
       "      <td>2101826</td>\n",
       "      <td>gross</td>\n",
       "      <td>6147.00</td>\n",
       "    </tr>\n",
       "    <tr>\n",
       "      <th>1</th>\n",
       "      <td>1</td>\n",
       "      <td>2101827</td>\n",
       "      <td>gross</td>\n",
       "      <td>9221.00</td>\n",
       "    </tr>\n",
       "    <tr>\n",
       "      <th>2</th>\n",
       "      <td>1</td>\n",
       "      <td>40757009</td>\n",
       "      <td>gross</td>\n",
       "      <td>13614.00</td>\n",
       "    </tr>\n",
       "    <tr>\n",
       "      <th>3</th>\n",
       "      <td>1</td>\n",
       "      <td>40756966</td>\n",
       "      <td>gross</td>\n",
       "      <td>16559.00</td>\n",
       "    </tr>\n",
       "    <tr>\n",
       "      <th>4</th>\n",
       "      <td>1</td>\n",
       "      <td>32598</td>\n",
       "      <td>gross</td>\n",
       "      <td>10.69</td>\n",
       "    </tr>\n",
       "  </tbody>\n",
       "</table>\n",
       "</div>"
      ],
      "text/plain": [
       "   hospital_id  concept_id variable     value\n",
       "0            1     2101826    gross   6147.00\n",
       "1            1     2101827    gross   9221.00\n",
       "2            1    40757009    gross  13614.00\n",
       "3            1    40756966    gross  16559.00\n",
       "4            1       32598    gross     10.69"
      ]
     },
     "execution_count": 23,
     "metadata": {},
     "output_type": "execute_result"
    }
   ],
   "source": [
    "dfn.head()"
   ]
  },
  {
   "cell_type": "code",
   "execution_count": 24,
   "id": "ba3fce60",
   "metadata": {},
   "outputs": [
    {
     "data": {
      "text/html": [
       "<div>\n",
       "<style scoped>\n",
       "    .dataframe tbody tr th:only-of-type {\n",
       "        vertical-align: middle;\n",
       "    }\n",
       "\n",
       "    .dataframe tbody tr th {\n",
       "        vertical-align: top;\n",
       "    }\n",
       "\n",
       "    .dataframe thead th {\n",
       "        text-align: right;\n",
       "    }\n",
       "</style>\n",
       "<table border=\"1\" class=\"dataframe\">\n",
       "  <thead>\n",
       "    <tr style=\"text-align: right;\">\n",
       "      <th></th>\n",
       "      <th>hospital_id</th>\n",
       "      <th>concept_id</th>\n",
       "      <th>variable</th>\n",
       "      <th>value</th>\n",
       "    </tr>\n",
       "  </thead>\n",
       "  <tbody>\n",
       "    <tr>\n",
       "      <th>4</th>\n",
       "      <td>1</td>\n",
       "      <td>32598</td>\n",
       "      <td>gross</td>\n",
       "      <td>10.69</td>\n",
       "    </tr>\n",
       "    <tr>\n",
       "      <th>5221</th>\n",
       "      <td>1</td>\n",
       "      <td>32598</td>\n",
       "      <td>cash</td>\n",
       "      <td>6.41</td>\n",
       "    </tr>\n",
       "    <tr>\n",
       "      <th>10438</th>\n",
       "      <td>1</td>\n",
       "      <td>32598</td>\n",
       "      <td>max</td>\n",
       "      <td>6.30</td>\n",
       "    </tr>\n",
       "    <tr>\n",
       "      <th>15624</th>\n",
       "      <td>1</td>\n",
       "      <td>32598</td>\n",
       "      <td>min</td>\n",
       "      <td>6.30</td>\n",
       "    </tr>\n",
       "  </tbody>\n",
       "</table>\n",
       "</div>"
      ],
      "text/plain": [
       "       hospital_id  concept_id variable  value\n",
       "4                1       32598    gross  10.69\n",
       "5221             1       32598     cash   6.41\n",
       "10438            1       32598      max   6.30\n",
       "15624            1       32598      min   6.30"
      ]
     },
     "execution_count": 24,
     "metadata": {},
     "output_type": "execute_result"
    }
   ],
   "source": [
    "dfn.loc[lambda df: df['concept_id'] == 32598]"
   ]
  },
  {
   "cell_type": "code",
   "execution_count": 25,
   "id": "f8700fe1",
   "metadata": {},
   "outputs": [
    {
     "data": {
      "text/html": [
       "<div>\n",
       "<style scoped>\n",
       "    .dataframe tbody tr th:only-of-type {\n",
       "        vertical-align: middle;\n",
       "    }\n",
       "\n",
       "    .dataframe tbody tr th {\n",
       "        vertical-align: top;\n",
       "    }\n",
       "\n",
       "    .dataframe thead th {\n",
       "        text-align: right;\n",
       "    }\n",
       "</style>\n",
       "<table border=\"1\" class=\"dataframe\">\n",
       "  <thead>\n",
       "    <tr style=\"text-align: right;\">\n",
       "      <th></th>\n",
       "      <th>hospital_id</th>\n",
       "      <th>concept_id</th>\n",
       "      <th>variable</th>\n",
       "      <th>value</th>\n",
       "    </tr>\n",
       "  </thead>\n",
       "  <tbody>\n",
       "    <tr>\n",
       "      <th>3715</th>\n",
       "      <td>1</td>\n",
       "      <td>32598</td>\n",
       "      <td>gross</td>\n",
       "      <td>10.69</td>\n",
       "    </tr>\n",
       "    <tr>\n",
       "      <th>8932</th>\n",
       "      <td>1</td>\n",
       "      <td>32598</td>\n",
       "      <td>cash</td>\n",
       "      <td>6.41</td>\n",
       "    </tr>\n",
       "    <tr>\n",
       "      <th>14118</th>\n",
       "      <td>1</td>\n",
       "      <td>32598</td>\n",
       "      <td>max</td>\n",
       "      <td>6.30</td>\n",
       "    </tr>\n",
       "    <tr>\n",
       "      <th>19304</th>\n",
       "      <td>1</td>\n",
       "      <td>32598</td>\n",
       "      <td>min</td>\n",
       "      <td>6.30</td>\n",
       "    </tr>\n",
       "  </tbody>\n",
       "</table>\n",
       "</div>"
      ],
      "text/plain": [
       "       hospital_id  concept_id variable  value\n",
       "3715             1       32598    gross  10.69\n",
       "8932             1       32598     cash   6.41\n",
       "14118            1       32598      max   6.30\n",
       "19304            1       32598      min   6.30"
      ]
     },
     "execution_count": 25,
     "metadata": {},
     "output_type": "execute_result"
    }
   ],
   "source": [
    "dfr.loc[lambda df: df['concept_id'] == 32598]"
   ]
  }
 ],
 "metadata": {
  "kernelspec": {
   "display_name": "Python 3 (ipykernel)",
   "language": "python",
   "name": "python3"
  },
  "language_info": {
   "codemirror_mode": {
    "name": "ipython",
    "version": 3
   },
   "file_extension": ".py",
   "mimetype": "text/x-python",
   "name": "python",
   "nbconvert_exporter": "python",
   "pygments_lexer": "ipython3",
   "version": "3.8.8"
  }
 },
 "nbformat": 4,
 "nbformat_minor": 5
}
