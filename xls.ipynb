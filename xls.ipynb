{
 "cells": [
  {
   "cell_type": "code",
   "execution_count": 1,
   "id": "3f9845a4",
   "metadata": {},
   "outputs": [],
   "source": [
    "# import libraries\n",
    "import os\n",
    "import pandas as pd\n",
    "import datetime as dt"
   ]
  },
  {
   "cell_type": "code",
   "execution_count": 2,
   "id": "59a67c18",
   "metadata": {},
   "outputs": [],
   "source": [
    "# must match a reference ontology\n",
    "# path in final version will be /opt/data/dim/\n",
    "concept = pd.read_csv('volumes/data/dim/CONCEPT.csv.gz', header=0, sep='\\t', low_memory=False)"
   ]
  },
  {
   "cell_type": "code",
   "execution_count": 3,
   "id": "6489d2a1",
   "metadata": {},
   "outputs": [],
   "source": [
    "concept = concept[['concept_code', 'concept_id']]"
   ]
  },
  {
   "cell_type": "code",
   "execution_count": 4,
   "id": "607fc747",
   "metadata": {},
   "outputs": [],
   "source": [
    "concept.drop_duplicates(inplace=True)"
   ]
  },
  {
   "cell_type": "code",
   "execution_count": 5,
   "id": "401bd954",
   "metadata": {},
   "outputs": [],
   "source": [
    "concept.rename(columns= {'concept_code': 'cpt'}, inplace=True)"
   ]
  },
  {
   "cell_type": "code",
   "execution_count": 15,
   "id": "31ec3320",
   "metadata": {},
   "outputs": [],
   "source": [
    "# make a control file to iterate through\n",
    "# path in final version will be /opt/data/raw/\n",
    "path = 'volumes/data/raw/'\n",
    "files = os.listdir(path)\n",
    "csv_files = [x for x in files if x.endswith(\".xlsx\")]\n",
    "\n",
    "# removes '.xlsx' (5 characters)\n",
    "hospital_ids = [int(x[:-5]) for x in csv_files] \n",
    "control = pd.DataFrame({'file': csv_files, 'hospital_id': hospital_ids})"
   ]
  },
  {
   "cell_type": "code",
   "execution_count": 16,
   "id": "26038eb9",
   "metadata": {},
   "outputs": [],
   "source": [
    "#cross reference the control file with the static dimension table\n",
    "# path in final version will be /opt/dta/dim/\n",
    "dim = pd.read_csv('volumes/data/dim/hospital.csv', usecols=['hospital_id', 'affiliation'])\n",
    "control = control.merge(dim, how= 'left', on='hospital_id')\n",
    "control.sort_values(by='hospital_id', inplace=True, ignore_index=True)"
   ]
  },
  {
   "cell_type": "code",
   "execution_count": 18,
   "id": "a306f4fa",
   "metadata": {},
   "outputs": [],
   "source": [
    "## loop (PENDING)"
   ]
  },
  {
   "cell_type": "code",
   "execution_count": 19,
   "id": "05266313",
   "metadata": {},
   "outputs": [
    {
     "name": "stdout",
     "output_type": "stream",
     "text": [
      "2021-09-20 16:34:22 - parsing hospital - 9\n"
     ]
    }
   ],
   "source": [
    "# print file you are working on now\n",
    "print(dt.datetime.now().strftime(\"%Y-%m-%d %H:%M:%S\") + ' - parsing hospital - ' + str(control.hospital_id[0]))"
   ]
  },
  {
   "cell_type": "code",
   "execution_count": 58,
   "id": "5dc759c9",
   "metadata": {},
   "outputs": [],
   "source": [
    "# read in the data\n",
    "# replace 0 with i in loop\n",
    "df = pd.read_excel('volumes/data/raw/' + control.file[0])"
   ]
  },
  {
   "cell_type": "code",
   "execution_count": 77,
   "id": "629de31d",
   "metadata": {},
   "outputs": [],
   "source": [
    "out = pd.DataFrame({\n",
    "    'cpt': df['HCPCS'],\n",
    "    'gross': df['CHARGE']\n",
    "})\n",
    "out.drop_duplicates(inplace=True)"
   ]
  },
  {
   "cell_type": "code",
   "execution_count": 80,
   "id": "c26d3ead",
   "metadata": {},
   "outputs": [],
   "source": [
    "# if out is not Null loop"
   ]
  },
  {
   "cell_type": "code",
   "execution_count": 81,
   "id": "4fcdab5d",
   "metadata": {},
   "outputs": [],
   "source": [
    "# uniform\n",
    "out.dropna(subset=['cpt'], inplace=True)\n",
    "out = out[out.cpt != '']\n",
    "out = out[out.cpt != '*']"
   ]
  },
  {
   "cell_type": "code",
   "execution_count": 90,
   "id": "d7df33c7",
   "metadata": {},
   "outputs": [],
   "source": [
    "# merge was skipping CPT values with no letters on them\n",
    "out['cpt'] = out['cpt'].astype(str)"
   ]
  },
  {
   "cell_type": "code",
   "execution_count": 95,
   "id": "8633cf4c",
   "metadata": {},
   "outputs": [],
   "source": [
    "# must match a reference code, usually CPT or HCPCS\n",
    "out = out.merge(concept, on='cpt', sort=True)"
   ]
  },
  {
   "cell_type": "code",
   "execution_count": 100,
   "id": "b1c4c1c2",
   "metadata": {},
   "outputs": [],
   "source": [
    "out = out.drop('cpt', axis=1)"
   ]
  },
  {
   "cell_type": "code",
   "execution_count": 102,
   "id": "ce066a93",
   "metadata": {},
   "outputs": [],
   "source": [
    "# melt from wide to long, and clean\n",
    "long = pd.melt(out, id_vars='concept_id')"
   ]
  },
  {
   "cell_type": "code",
   "execution_count": 105,
   "id": "a01b420c",
   "metadata": {},
   "outputs": [],
   "source": [
    "if long.value.dtypes not in ('float64', 'int64'):\n",
    "    long['value'] = long['value'].str.strip()\n",
    "    long['value'] = long['value'].str.replace(',', '', regex=False)\n",
    "    long['value'] = long['value'].str.replace('[$]', '', regex=False)\n",
    "    long['value'] = long.value.astype(float)\n",
    "long.dropna(subset=['value'], inplace=True)\n",
    "long = long[long.value > 0]\n",
    "\n",
    "# Add hospital id and order columns\n",
    "# later change the 0 for i inside the loop\n",
    "long['hospital_id'] = control.hospital_id[0]\n",
    "long = long[long.columns[[3,0,1,2]]]"
   ]
  },
  {
   "cell_type": "code",
   "execution_count": 107,
   "id": "1f6cf96e",
   "metadata": {},
   "outputs": [],
   "source": [
    "# if out is not Null clause"
   ]
  },
  {
   "cell_type": "code",
   "execution_count": 108,
   "id": "5132cbc1",
   "metadata": {},
   "outputs": [],
   "source": [
    "# write the data to a flatfile for postgres\n",
    "# path will be later /opt/data/transformed/\n",
    "# replace 0 with i inside the loop\n",
    "if long.shape[0] > 0:\n",
    "    out_path = 'volumes/data/transformed/' + str(control.hospital_id[0]) + '.csv'\n",
    "    long.to_csv(out_path, header=False, index=None)"
   ]
  },
  {
   "cell_type": "code",
   "execution_count": 109,
   "id": "8a1ad7e4",
   "metadata": {},
   "outputs": [],
   "source": [
    "# clear variables from last iteration (inside the loop)\n",
    "# del out\n",
    "# del long"
   ]
  },
  {
   "cell_type": "code",
   "execution_count": 110,
   "id": "28708d9b",
   "metadata": {},
   "outputs": [],
   "source": [
    "col_names = ['hospital_id', 'concept_id', 'variable', 'value']\n",
    "dfr = pd.read_csv('volumes/data/transformed/9.csv', header=None, names=col_names)"
   ]
  },
  {
   "cell_type": "code",
   "execution_count": 111,
   "id": "196cb97e",
   "metadata": {},
   "outputs": [
    {
     "data": {
      "text/html": [
       "<div>\n",
       "<style scoped>\n",
       "    .dataframe tbody tr th:only-of-type {\n",
       "        vertical-align: middle;\n",
       "    }\n",
       "\n",
       "    .dataframe tbody tr th {\n",
       "        vertical-align: top;\n",
       "    }\n",
       "\n",
       "    .dataframe thead th {\n",
       "        text-align: right;\n",
       "    }\n",
       "</style>\n",
       "<table border=\"1\" class=\"dataframe\">\n",
       "  <thead>\n",
       "    <tr style=\"text-align: right;\">\n",
       "      <th></th>\n",
       "      <th>hospital_id</th>\n",
       "      <th>concept_id</th>\n",
       "      <th>variable</th>\n",
       "      <th>value</th>\n",
       "    </tr>\n",
       "  </thead>\n",
       "  <tbody>\n",
       "    <tr>\n",
       "      <th>0</th>\n",
       "      <td>9</td>\n",
       "      <td>709849</td>\n",
       "      <td>gross</td>\n",
       "      <td>341.25</td>\n",
       "    </tr>\n",
       "    <tr>\n",
       "      <th>1</th>\n",
       "      <td>9</td>\n",
       "      <td>2101701</td>\n",
       "      <td>gross</td>\n",
       "      <td>100.00</td>\n",
       "    </tr>\n",
       "    <tr>\n",
       "      <th>2</th>\n",
       "      <td>9</td>\n",
       "      <td>927066</td>\n",
       "      <td>gross</td>\n",
       "      <td>805.00</td>\n",
       "    </tr>\n",
       "    <tr>\n",
       "      <th>3</th>\n",
       "      <td>9</td>\n",
       "      <td>42742484</td>\n",
       "      <td>gross</td>\n",
       "      <td>2745.00</td>\n",
       "    </tr>\n",
       "    <tr>\n",
       "      <th>4</th>\n",
       "      <td>9</td>\n",
       "      <td>42742485</td>\n",
       "      <td>gross</td>\n",
       "      <td>1375.00</td>\n",
       "    </tr>\n",
       "  </tbody>\n",
       "</table>\n",
       "</div>"
      ],
      "text/plain": [
       "   hospital_id  concept_id variable    value\n",
       "0            9      709849    gross   341.25\n",
       "1            9     2101701    gross   100.00\n",
       "2            9      927066    gross   805.00\n",
       "3            9    42742484    gross  2745.00\n",
       "4            9    42742485    gross  1375.00"
      ]
     },
     "execution_count": 111,
     "metadata": {},
     "output_type": "execute_result"
    }
   ],
   "source": [
    "dfr.head()"
   ]
  },
  {
   "cell_type": "code",
   "execution_count": 112,
   "id": "1041f9f6",
   "metadata": {},
   "outputs": [],
   "source": [
    "dfn = pd.read_csv('../../NC/hospital-price-transparency/volumes/data/transformed/9.csv', header=None, names=col_names)"
   ]
  },
  {
   "cell_type": "code",
   "execution_count": 113,
   "id": "649ebb76",
   "metadata": {},
   "outputs": [
    {
     "data": {
      "text/html": [
       "<div>\n",
       "<style scoped>\n",
       "    .dataframe tbody tr th:only-of-type {\n",
       "        vertical-align: middle;\n",
       "    }\n",
       "\n",
       "    .dataframe tbody tr th {\n",
       "        vertical-align: top;\n",
       "    }\n",
       "\n",
       "    .dataframe thead th {\n",
       "        text-align: right;\n",
       "    }\n",
       "</style>\n",
       "<table border=\"1\" class=\"dataframe\">\n",
       "  <thead>\n",
       "    <tr style=\"text-align: right;\">\n",
       "      <th></th>\n",
       "      <th>hospital_id</th>\n",
       "      <th>concept_id</th>\n",
       "      <th>variable</th>\n",
       "      <th>value</th>\n",
       "    </tr>\n",
       "  </thead>\n",
       "  <tbody>\n",
       "    <tr>\n",
       "      <th>0</th>\n",
       "      <td>9</td>\n",
       "      <td>709849</td>\n",
       "      <td>gross</td>\n",
       "      <td>341.25</td>\n",
       "    </tr>\n",
       "    <tr>\n",
       "      <th>1</th>\n",
       "      <td>9</td>\n",
       "      <td>2101701</td>\n",
       "      <td>gross</td>\n",
       "      <td>100.00</td>\n",
       "    </tr>\n",
       "    <tr>\n",
       "      <th>2</th>\n",
       "      <td>9</td>\n",
       "      <td>927066</td>\n",
       "      <td>gross</td>\n",
       "      <td>805.00</td>\n",
       "    </tr>\n",
       "    <tr>\n",
       "      <th>3</th>\n",
       "      <td>9</td>\n",
       "      <td>42742484</td>\n",
       "      <td>gross</td>\n",
       "      <td>2745.00</td>\n",
       "    </tr>\n",
       "    <tr>\n",
       "      <th>4</th>\n",
       "      <td>9</td>\n",
       "      <td>42742485</td>\n",
       "      <td>gross</td>\n",
       "      <td>1375.00</td>\n",
       "    </tr>\n",
       "  </tbody>\n",
       "</table>\n",
       "</div>"
      ],
      "text/plain": [
       "   hospital_id  concept_id variable    value\n",
       "0            9      709849    gross   341.25\n",
       "1            9     2101701    gross   100.00\n",
       "2            9      927066    gross   805.00\n",
       "3            9    42742484    gross  2745.00\n",
       "4            9    42742485    gross  1375.00"
      ]
     },
     "execution_count": 113,
     "metadata": {},
     "output_type": "execute_result"
    }
   ],
   "source": [
    "dfn.head()"
   ]
  },
  {
   "cell_type": "code",
   "execution_count": 117,
   "id": "ba3fce60",
   "metadata": {},
   "outputs": [
    {
     "data": {
      "text/html": [
       "<div>\n",
       "<style scoped>\n",
       "    .dataframe tbody tr th:only-of-type {\n",
       "        vertical-align: middle;\n",
       "    }\n",
       "\n",
       "    .dataframe tbody tr th {\n",
       "        vertical-align: top;\n",
       "    }\n",
       "\n",
       "    .dataframe thead th {\n",
       "        text-align: right;\n",
       "    }\n",
       "</style>\n",
       "<table border=\"1\" class=\"dataframe\">\n",
       "  <thead>\n",
       "    <tr style=\"text-align: right;\">\n",
       "      <th></th>\n",
       "      <th>hospital_id</th>\n",
       "      <th>concept_id</th>\n",
       "      <th>variable</th>\n",
       "      <th>value</th>\n",
       "    </tr>\n",
       "  </thead>\n",
       "  <tbody>\n",
       "    <tr>\n",
       "      <th>3</th>\n",
       "      <td>9</td>\n",
       "      <td>42742484</td>\n",
       "      <td>gross</td>\n",
       "      <td>2745.0</td>\n",
       "    </tr>\n",
       "  </tbody>\n",
       "</table>\n",
       "</div>"
      ],
      "text/plain": [
       "   hospital_id  concept_id variable   value\n",
       "3            9    42742484    gross  2745.0"
      ]
     },
     "execution_count": 117,
     "metadata": {},
     "output_type": "execute_result"
    }
   ],
   "source": [
    "dfn.loc[lambda df: df['concept_id'] == 42742484]"
   ]
  },
  {
   "cell_type": "code",
   "execution_count": 116,
   "id": "f8700fe1",
   "metadata": {},
   "outputs": [
    {
     "data": {
      "text/html": [
       "<div>\n",
       "<style scoped>\n",
       "    .dataframe tbody tr th:only-of-type {\n",
       "        vertical-align: middle;\n",
       "    }\n",
       "\n",
       "    .dataframe tbody tr th {\n",
       "        vertical-align: top;\n",
       "    }\n",
       "\n",
       "    .dataframe thead th {\n",
       "        text-align: right;\n",
       "    }\n",
       "</style>\n",
       "<table border=\"1\" class=\"dataframe\">\n",
       "  <thead>\n",
       "    <tr style=\"text-align: right;\">\n",
       "      <th></th>\n",
       "      <th>hospital_id</th>\n",
       "      <th>concept_id</th>\n",
       "      <th>variable</th>\n",
       "      <th>value</th>\n",
       "    </tr>\n",
       "  </thead>\n",
       "  <tbody>\n",
       "    <tr>\n",
       "      <th>3</th>\n",
       "      <td>9</td>\n",
       "      <td>42742484</td>\n",
       "      <td>gross</td>\n",
       "      <td>2745.0</td>\n",
       "    </tr>\n",
       "  </tbody>\n",
       "</table>\n",
       "</div>"
      ],
      "text/plain": [
       "   hospital_id  concept_id variable   value\n",
       "3            9    42742484    gross  2745.0"
      ]
     },
     "execution_count": 116,
     "metadata": {},
     "output_type": "execute_result"
    }
   ],
   "source": [
    "dfr.loc[lambda df: df['concept_id'] == 42742484]"
   ]
  },
  {
   "cell_type": "code",
   "execution_count": 118,
   "id": "bff32ef7",
   "metadata": {},
   "outputs": [
    {
     "name": "stdout",
     "output_type": "stream",
     "text": [
      "(2540, 4) (2540, 4)\n"
     ]
    }
   ],
   "source": [
    "print(dfn.shape, dfr.shape)"
   ]
  }
 ],
 "metadata": {
  "kernelspec": {
   "display_name": "Python 3 (ipykernel)",
   "language": "python",
   "name": "python3"
  },
  "language_info": {
   "codemirror_mode": {
    "name": "ipython",
    "version": 3
   },
   "file_extension": ".py",
   "mimetype": "text/x-python",
   "name": "python",
   "nbconvert_exporter": "python",
   "pygments_lexer": "ipython3",
   "version": "3.8.8"
  }
 },
 "nbformat": 4,
 "nbformat_minor": 5
}
